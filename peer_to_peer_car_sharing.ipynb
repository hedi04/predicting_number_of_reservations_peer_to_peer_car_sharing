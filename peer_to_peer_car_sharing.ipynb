{
 "cells": [
  {
   "cell_type": "markdown",
   "metadata": {},
   "source": [
    "\n",
    "What factors seem to be most important in driving total # of reservations for the vehicles?\n",
    "(technology type, pricing, number of car photos, street parking, car description length)\n",
    "\n",
    "How does the car's technology type seem to affect reservations?"
   ]
  },
  {
   "cell_type": "markdown",
   "metadata": {},
   "source": [
    "# ------------------------------------------"
   ]
  },
  {
   "cell_type": "markdown",
   "metadata": {},
   "source": [
    "## Libraries"
   ]
  },
  {
   "cell_type": "code",
   "execution_count": 218,
   "metadata": {
    "collapsed": true
   },
   "outputs": [],
   "source": [
    "import numpy as np\n",
    "import pandas as pd\n",
    "import warnings\n",
    "warnings.filterwarnings(\"ignore\")\n",
    "\n",
    "import matplotlib.pyplot as plt\n",
    "% matplotlib inline"
   ]
  },
  {
   "cell_type": "markdown",
   "metadata": {},
   "source": [
    "# ------------------------------------------------"
   ]
  },
  {
   "cell_type": "markdown",
   "metadata": {},
   "source": [
    "## Loading the data"
   ]
  },
  {
   "cell_type": "code",
   "execution_count": 219,
   "metadata": {
    "collapsed": true
   },
   "outputs": [],
   "source": [
    "vehicles_df = pd.read_csv(\"/Users/Hedi/Documents/vehicles.csv\")\n",
    "reservations_df = pd.read_csv(\"/Users/Hedi/Documents/reservations.csv\")"
   ]
  },
  {
   "cell_type": "markdown",
   "metadata": {},
   "source": [
    "# ---------------------------------------------------"
   ]
  },
  {
   "cell_type": "markdown",
   "metadata": {},
   "source": [
    "# Table of Content:\n",
    "\n",
    "## Part A: Overview of the vehicle & reservation tables\n",
    "## Part B: Joining the tables\n",
    "## Part C: Exploratory data analysis\n",
    "## Part D: Levers to drive # of reservations\n",
    "## Part E: Effect of car's technology on reservations"
   ]
  },
  {
   "cell_type": "markdown",
   "metadata": {},
   "source": [
    "# --------------------------------------------------------------------------------------------"
   ]
  },
  {
   "cell_type": "markdown",
   "metadata": {},
   "source": [
    "# Part A: High Overview"
   ]
  },
  {
   "cell_type": "markdown",
   "metadata": {},
   "source": [
    "# --------------------------------------------------------------------------------------------"
   ]
  },
  {
   "cell_type": "markdown",
   "metadata": {},
   "source": [
    "### Vehicle Table (each row represents a unique vehicle)\n",
    "\n",
    "    + Check for missing values\n",
    "    + Check duplicates\n",
    "    + Check outliers (scatter plot)"
   ]
  },
  {
   "cell_type": "code",
   "execution_count": 220,
   "metadata": {
    "collapsed": false
   },
   "outputs": [
    {
     "name": "stdout",
     "output_type": "stream",
     "text": [
      "<class 'pandas.core.frame.DataFrame'>\n",
      "RangeIndex: 1000 entries, 0 to 999\n",
      "Data columns (total 7 columns):\n",
      "vehicle_id           1000 non-null int64\n",
      "technology           1000 non-null int64\n",
      "actual_price         1000 non-null float64\n",
      "recommended_price    1000 non-null int64\n",
      "num_images           1000 non-null int64\n",
      "street_parked        1000 non-null int64\n",
      "description          1000 non-null int64\n",
      "dtypes: float64(1), int64(6)\n",
      "memory usage: 54.8 KB\n"
     ]
    }
   ],
   "source": [
    "# There are no missing values\n",
    "vehicles_df.info()"
   ]
  },
  {
   "cell_type": "code",
   "execution_count": 221,
   "metadata": {
    "collapsed": false
   },
   "outputs": [
    {
     "data": {
      "text/plain": [
       "1000"
      ]
     },
     "execution_count": 221,
     "metadata": {},
     "output_type": "execute_result"
    }
   ],
   "source": [
    "# There are 1000 vehicles / no vehicle_id duplicates\n",
    "vehicles_df['vehicle_id'].nunique()"
   ]
  },
  {
   "cell_type": "code",
   "execution_count": 222,
   "metadata": {
    "collapsed": false
   },
   "outputs": [
    {
     "data": {
      "text/html": [
       "<div>\n",
       "<style>\n",
       "    .dataframe thead tr:only-child th {\n",
       "        text-align: right;\n",
       "    }\n",
       "\n",
       "    .dataframe thead th {\n",
       "        text-align: left;\n",
       "    }\n",
       "\n",
       "    .dataframe tbody tr th {\n",
       "        vertical-align: top;\n",
       "    }\n",
       "</style>\n",
       "<table border=\"1\" class=\"dataframe\">\n",
       "  <thead>\n",
       "    <tr style=\"text-align: right;\">\n",
       "      <th></th>\n",
       "      <th>vehicle_id</th>\n",
       "      <th>technology</th>\n",
       "      <th>actual_price</th>\n",
       "      <th>recommended_price</th>\n",
       "      <th>num_images</th>\n",
       "      <th>street_parked</th>\n",
       "      <th>description</th>\n",
       "    </tr>\n",
       "  </thead>\n",
       "  <tbody>\n",
       "    <tr>\n",
       "      <th>0</th>\n",
       "      <td>1</td>\n",
       "      <td>1</td>\n",
       "      <td>67.85</td>\n",
       "      <td>59</td>\n",
       "      <td>5</td>\n",
       "      <td>0</td>\n",
       "      <td>7</td>\n",
       "    </tr>\n",
       "    <tr>\n",
       "      <th>1</th>\n",
       "      <td>2</td>\n",
       "      <td>0</td>\n",
       "      <td>100.70</td>\n",
       "      <td>53</td>\n",
       "      <td>5</td>\n",
       "      <td>0</td>\n",
       "      <td>224</td>\n",
       "    </tr>\n",
       "    <tr>\n",
       "      <th>2</th>\n",
       "      <td>3</td>\n",
       "      <td>0</td>\n",
       "      <td>74.00</td>\n",
       "      <td>74</td>\n",
       "      <td>4</td>\n",
       "      <td>1</td>\n",
       "      <td>21</td>\n",
       "    </tr>\n",
       "    <tr>\n",
       "      <th>3</th>\n",
       "      <td>4</td>\n",
       "      <td>0</td>\n",
       "      <td>135.00</td>\n",
       "      <td>75</td>\n",
       "      <td>1</td>\n",
       "      <td>0</td>\n",
       "      <td>184</td>\n",
       "    </tr>\n",
       "    <tr>\n",
       "      <th>4</th>\n",
       "      <td>5</td>\n",
       "      <td>0</td>\n",
       "      <td>59.36</td>\n",
       "      <td>53</td>\n",
       "      <td>2</td>\n",
       "      <td>1</td>\n",
       "      <td>31</td>\n",
       "    </tr>\n",
       "  </tbody>\n",
       "</table>\n",
       "</div>"
      ],
      "text/plain": [
       "   vehicle_id  technology  actual_price  recommended_price  num_images  \\\n",
       "0           1           1         67.85                 59           5   \n",
       "1           2           0        100.70                 53           5   \n",
       "2           3           0         74.00                 74           4   \n",
       "3           4           0        135.00                 75           1   \n",
       "4           5           0         59.36                 53           2   \n",
       "\n",
       "   street_parked  description  \n",
       "0              0            7  \n",
       "1              0          224  \n",
       "2              1           21  \n",
       "3              0          184  \n",
       "4              1           31  "
      ]
     },
     "execution_count": 222,
     "metadata": {},
     "output_type": "execute_result"
    }
   ],
   "source": [
    "vehicles_df.head()"
   ]
  },
  {
   "cell_type": "markdown",
   "metadata": {},
   "source": [
    "### Reservation Table (each row represents a unique reservation)"
   ]
  },
  {
   "cell_type": "code",
   "execution_count": 223,
   "metadata": {
    "collapsed": false
   },
   "outputs": [
    {
     "name": "stdout",
     "output_type": "stream",
     "text": [
      "<class 'pandas.core.frame.DataFrame'>\n",
      "RangeIndex: 6376 entries, 0 to 6375\n",
      "Data columns (total 2 columns):\n",
      "vehicle_id          6376 non-null int64\n",
      "reservation_type    6376 non-null int64\n",
      "dtypes: int64(2)\n",
      "memory usage: 99.7 KB\n"
     ]
    }
   ],
   "source": [
    "# There are no missing values\n",
    "reservations_df.info()"
   ]
  },
  {
   "cell_type": "code",
   "execution_count": 224,
   "metadata": {
    "collapsed": false
   },
   "outputs": [
    {
     "data": {
      "text/plain": [
       "911"
      ]
     },
     "execution_count": 224,
     "metadata": {},
     "output_type": "execute_result"
    }
   ],
   "source": [
    "# There are 911 unique vehicle id\n",
    "# A vehicle can be rented many times & in different ways (hourly,daily and weekly)\n",
    "# Observation: 89 vehicles have never been booked\n",
    "reservations_df['vehicle_id'].nunique()"
   ]
  },
  {
   "cell_type": "code",
   "execution_count": 225,
   "metadata": {
    "collapsed": false
   },
   "outputs": [
    {
     "data": {
      "text/html": [
       "<div>\n",
       "<style>\n",
       "    .dataframe thead tr:only-child th {\n",
       "        text-align: right;\n",
       "    }\n",
       "\n",
       "    .dataframe thead th {\n",
       "        text-align: left;\n",
       "    }\n",
       "\n",
       "    .dataframe tbody tr th {\n",
       "        vertical-align: top;\n",
       "    }\n",
       "</style>\n",
       "<table border=\"1\" class=\"dataframe\">\n",
       "  <thead>\n",
       "    <tr style=\"text-align: right;\">\n",
       "      <th></th>\n",
       "      <th>vehicle_id</th>\n",
       "      <th>reservation_type</th>\n",
       "    </tr>\n",
       "  </thead>\n",
       "  <tbody>\n",
       "    <tr>\n",
       "      <th>0</th>\n",
       "      <td>208</td>\n",
       "      <td>1</td>\n",
       "    </tr>\n",
       "    <tr>\n",
       "      <th>1</th>\n",
       "      <td>601</td>\n",
       "      <td>3</td>\n",
       "    </tr>\n",
       "    <tr>\n",
       "      <th>2</th>\n",
       "      <td>993</td>\n",
       "      <td>1</td>\n",
       "    </tr>\n",
       "    <tr>\n",
       "      <th>3</th>\n",
       "      <td>423</td>\n",
       "      <td>2</td>\n",
       "    </tr>\n",
       "    <tr>\n",
       "      <th>4</th>\n",
       "      <td>685</td>\n",
       "      <td>3</td>\n",
       "    </tr>\n",
       "  </tbody>\n",
       "</table>\n",
       "</div>"
      ],
      "text/plain": [
       "   vehicle_id  reservation_type\n",
       "0         208                 1\n",
       "1         601                 3\n",
       "2         993                 1\n",
       "3         423                 2\n",
       "4         685                 3"
      ]
     },
     "execution_count": 225,
     "metadata": {},
     "output_type": "execute_result"
    }
   ],
   "source": [
    "# Each row represents one reservation\n",
    "reservations_df.head()"
   ]
  },
  {
   "cell_type": "code",
   "execution_count": 226,
   "metadata": {
    "collapsed": false
   },
   "outputs": [
    {
     "data": {
      "text/html": [
       "<div>\n",
       "<style>\n",
       "    .dataframe thead tr:only-child th {\n",
       "        text-align: right;\n",
       "    }\n",
       "\n",
       "    .dataframe thead th {\n",
       "        text-align: left;\n",
       "    }\n",
       "\n",
       "    .dataframe tbody tr th {\n",
       "        vertical-align: top;\n",
       "    }\n",
       "</style>\n",
       "<table border=\"1\" class=\"dataframe\">\n",
       "  <thead>\n",
       "    <tr style=\"text-align: right;\">\n",
       "      <th></th>\n",
       "      <th>vehicle_id</th>\n",
       "      <th>#_Daily_rentals</th>\n",
       "      <th>#_Hourly_rentals</th>\n",
       "      <th>#_Weekly_rentals</th>\n",
       "      <th>#_reservations</th>\n",
       "    </tr>\n",
       "  </thead>\n",
       "  <tbody>\n",
       "    <tr>\n",
       "      <th>0</th>\n",
       "      <td>1</td>\n",
       "      <td>0</td>\n",
       "      <td>1</td>\n",
       "      <td>0</td>\n",
       "      <td>1</td>\n",
       "    </tr>\n",
       "    <tr>\n",
       "      <th>1</th>\n",
       "      <td>2</td>\n",
       "      <td>3</td>\n",
       "      <td>4</td>\n",
       "      <td>0</td>\n",
       "      <td>7</td>\n",
       "    </tr>\n",
       "    <tr>\n",
       "      <th>2</th>\n",
       "      <td>3</td>\n",
       "      <td>9</td>\n",
       "      <td>1</td>\n",
       "      <td>7</td>\n",
       "      <td>17</td>\n",
       "    </tr>\n",
       "    <tr>\n",
       "      <th>3</th>\n",
       "      <td>4</td>\n",
       "      <td>0</td>\n",
       "      <td>1</td>\n",
       "      <td>1</td>\n",
       "      <td>2</td>\n",
       "    </tr>\n",
       "    <tr>\n",
       "      <th>4</th>\n",
       "      <td>5</td>\n",
       "      <td>1</td>\n",
       "      <td>0</td>\n",
       "      <td>1</td>\n",
       "      <td>2</td>\n",
       "    </tr>\n",
       "  </tbody>\n",
       "</table>\n",
       "</div>"
      ],
      "text/plain": [
       "   vehicle_id  #_Daily_rentals  #_Hourly_rentals  #_Weekly_rentals  \\\n",
       "0           1                0                 1                 0   \n",
       "1           2                3                 4                 0   \n",
       "2           3                9                 1                 7   \n",
       "3           4                0                 1                 1   \n",
       "4           5                1                 0                 1   \n",
       "\n",
       "   #_reservations  \n",
       "0               1  \n",
       "1               7  \n",
       "2              17  \n",
       "3               2  \n",
       "4               2  "
      ]
     },
     "execution_count": 226,
     "metadata": {},
     "output_type": "execute_result"
    }
   ],
   "source": [
    "# Goal: Join the reservation & vehicle tables\n",
    "# Let's group by vehicle id so that each row repsents a vehicle\n",
    "rentals_df = reservations_df.groupby('vehicle_id').apply(lambda x: pd.Series({\n",
    "    '#_Hourly_rentals': len(x[x.reservation_type==1]),\n",
    "    '#_Daily_rentals': len(x[x.reservation_type==2]),\n",
    "    '#_Weekly_rentals': len(x[x.reservation_type==3]),\n",
    "    '#_reservations': len(x)    \n",
    "})).reset_index()\n",
    "\n",
    "rentals_df.head()"
   ]
  },
  {
   "cell_type": "code",
   "execution_count": 227,
   "metadata": {
    "collapsed": false
   },
   "outputs": [
    {
     "data": {
      "text/plain": [
       "911"
      ]
     },
     "execution_count": 227,
     "metadata": {},
     "output_type": "execute_result"
    }
   ],
   "source": [
    "# Check point:rentals_df contains 911 unique vehicle_id \n",
    "# We didn't lose any vehicle while grouping by vehicle_id\n",
    "rentals_df['vehicle_id'].nunique()"
   ]
  },
  {
   "cell_type": "markdown",
   "metadata": {},
   "source": [
    "## -----------------------------------------------------------------------------------------------------------"
   ]
  },
  {
   "cell_type": "markdown",
   "metadata": {},
   "source": [
    "# Part B: Joining the vehicle and rental tables"
   ]
  },
  {
   "cell_type": "markdown",
   "metadata": {},
   "source": [
    "# --------------------------------------------------------------------------------------------"
   ]
  },
  {
   "cell_type": "code",
   "execution_count": 228,
   "metadata": {
    "collapsed": true
   },
   "outputs": [],
   "source": [
    "# Let's join the vehicles and rentals df\n",
    "# vehicle_df contains 1000 vehicles and rentals_df contains 911 vehicles\n",
    "# Important to use a LEFT join cause there are vehicles that have never been booked \n",
    "# Using a INNER join would remove this information\n",
    "vehicle_rentals_df = vehicles_df.merge(rentals_df,how='left',on='vehicle_id')"
   ]
  },
  {
   "cell_type": "code",
   "execution_count": 229,
   "metadata": {
    "collapsed": true
   },
   "outputs": [],
   "source": [
    "# We replace the null values by 0\n",
    "vehicle_rentals_df = vehicle_rentals_df.fillna(0)"
   ]
  },
  {
   "cell_type": "code",
   "execution_count": 230,
   "metadata": {
    "collapsed": false
   },
   "outputs": [
    {
     "name": "stdout",
     "output_type": "stream",
     "text": [
      "<class 'pandas.core.frame.DataFrame'>\n",
      "Int64Index: 1000 entries, 0 to 999\n",
      "Data columns (total 11 columns):\n",
      "vehicle_id           1000 non-null int64\n",
      "technology           1000 non-null int64\n",
      "actual_price         1000 non-null float64\n",
      "recommended_price    1000 non-null int64\n",
      "num_images           1000 non-null int64\n",
      "street_parked        1000 non-null int64\n",
      "description          1000 non-null int64\n",
      "#_Daily_rentals      1000 non-null float64\n",
      "#_Hourly_rentals     1000 non-null float64\n",
      "#_Weekly_rentals     1000 non-null float64\n",
      "#_reservations       1000 non-null float64\n",
      "dtypes: float64(5), int64(6)\n",
      "memory usage: 93.8 KB\n"
     ]
    }
   ],
   "source": [
    "# No more null values\n",
    "vehicle_rentals_df.info()"
   ]
  },
  {
   "cell_type": "code",
   "execution_count": 231,
   "metadata": {
    "collapsed": false
   },
   "outputs": [
    {
     "data": {
      "text/html": [
       "<div>\n",
       "<style>\n",
       "    .dataframe thead tr:only-child th {\n",
       "        text-align: right;\n",
       "    }\n",
       "\n",
       "    .dataframe thead th {\n",
       "        text-align: left;\n",
       "    }\n",
       "\n",
       "    .dataframe tbody tr th {\n",
       "        vertical-align: top;\n",
       "    }\n",
       "</style>\n",
       "<table border=\"1\" class=\"dataframe\">\n",
       "  <thead>\n",
       "    <tr style=\"text-align: right;\">\n",
       "      <th></th>\n",
       "      <th>vehicle_id</th>\n",
       "      <th>technology</th>\n",
       "      <th>actual_price</th>\n",
       "      <th>recommended_price</th>\n",
       "      <th>num_images</th>\n",
       "      <th>street_parked</th>\n",
       "      <th>description</th>\n",
       "      <th>#_Daily_rentals</th>\n",
       "      <th>#_Hourly_rentals</th>\n",
       "      <th>#_Weekly_rentals</th>\n",
       "      <th>#_reservations</th>\n",
       "    </tr>\n",
       "  </thead>\n",
       "  <tbody>\n",
       "    <tr>\n",
       "      <th>0</th>\n",
       "      <td>1</td>\n",
       "      <td>1</td>\n",
       "      <td>67.85</td>\n",
       "      <td>59</td>\n",
       "      <td>5</td>\n",
       "      <td>0</td>\n",
       "      <td>7</td>\n",
       "      <td>0.0</td>\n",
       "      <td>1.0</td>\n",
       "      <td>0.0</td>\n",
       "      <td>1.0</td>\n",
       "    </tr>\n",
       "    <tr>\n",
       "      <th>1</th>\n",
       "      <td>2</td>\n",
       "      <td>0</td>\n",
       "      <td>100.70</td>\n",
       "      <td>53</td>\n",
       "      <td>5</td>\n",
       "      <td>0</td>\n",
       "      <td>224</td>\n",
       "      <td>3.0</td>\n",
       "      <td>4.0</td>\n",
       "      <td>0.0</td>\n",
       "      <td>7.0</td>\n",
       "    </tr>\n",
       "    <tr>\n",
       "      <th>2</th>\n",
       "      <td>3</td>\n",
       "      <td>0</td>\n",
       "      <td>74.00</td>\n",
       "      <td>74</td>\n",
       "      <td>4</td>\n",
       "      <td>1</td>\n",
       "      <td>21</td>\n",
       "      <td>9.0</td>\n",
       "      <td>1.0</td>\n",
       "      <td>7.0</td>\n",
       "      <td>17.0</td>\n",
       "    </tr>\n",
       "    <tr>\n",
       "      <th>3</th>\n",
       "      <td>4</td>\n",
       "      <td>0</td>\n",
       "      <td>135.00</td>\n",
       "      <td>75</td>\n",
       "      <td>1</td>\n",
       "      <td>0</td>\n",
       "      <td>184</td>\n",
       "      <td>0.0</td>\n",
       "      <td>1.0</td>\n",
       "      <td>1.0</td>\n",
       "      <td>2.0</td>\n",
       "    </tr>\n",
       "    <tr>\n",
       "      <th>4</th>\n",
       "      <td>5</td>\n",
       "      <td>0</td>\n",
       "      <td>59.36</td>\n",
       "      <td>53</td>\n",
       "      <td>2</td>\n",
       "      <td>1</td>\n",
       "      <td>31</td>\n",
       "      <td>1.0</td>\n",
       "      <td>0.0</td>\n",
       "      <td>1.0</td>\n",
       "      <td>2.0</td>\n",
       "    </tr>\n",
       "  </tbody>\n",
       "</table>\n",
       "</div>"
      ],
      "text/plain": [
       "   vehicle_id  technology  actual_price  recommended_price  num_images  \\\n",
       "0           1           1         67.85                 59           5   \n",
       "1           2           0        100.70                 53           5   \n",
       "2           3           0         74.00                 74           4   \n",
       "3           4           0        135.00                 75           1   \n",
       "4           5           0         59.36                 53           2   \n",
       "\n",
       "   street_parked  description  #_Daily_rentals  #_Hourly_rentals  \\\n",
       "0              0            7              0.0               1.0   \n",
       "1              0          224              3.0               4.0   \n",
       "2              1           21              9.0               1.0   \n",
       "3              0          184              0.0               1.0   \n",
       "4              1           31              1.0               0.0   \n",
       "\n",
       "   #_Weekly_rentals  #_reservations  \n",
       "0               0.0             1.0  \n",
       "1               0.0             7.0  \n",
       "2               7.0            17.0  \n",
       "3               1.0             2.0  \n",
       "4               1.0             2.0  "
      ]
     },
     "execution_count": 231,
     "metadata": {},
     "output_type": "execute_result"
    }
   ],
   "source": [
    "vehicle_rentals_df.head()"
   ]
  },
  {
   "cell_type": "markdown",
   "metadata": {},
   "source": [
    "## -----------------------------------------------------------------------------------------------------------"
   ]
  },
  {
   "cell_type": "markdown",
   "metadata": {},
   "source": [
    "# Part C: Exploratory Data Analysis\n",
    "\n",
    "    + The number of hourly,daily and weekly reservations seems to follow a\n",
    "      Power Law distribution (it has long tail, it's decaying exponentially ) \n",
    "    \n",
    "    + Those four variables seem to be identically distributed."
   ]
  },
  {
   "cell_type": "markdown",
   "metadata": {},
   "source": [
    "# --------------------------------------------------------------------------------------------"
   ]
  },
  {
   "cell_type": "code",
   "execution_count": 232,
   "metadata": {
    "collapsed": false
   },
   "outputs": [
    {
     "data": {
      "image/png": "[encoded data removed]",
      "text/plain": [
       "<matplotlib.figure.Figure at 0x1198cbc50>"
      ]
     },
     "metadata": {},
     "output_type": "display_data"
    }
   ],
   "source": [
    "nvehicles = len(vehicle_rentals_df['vehicle_id'])\n",
    "\n",
    "fig = plt.figure(figsize = (20,12))\n",
    "fig.add_subplot(221)\n",
    "plt.title(\"#_Hourly_rentals\")\n",
    "plt.hist(vehicle_rentals_df['#_Hourly_rentals'],bins=12,weights=np.ones(nvehicles)*100.0/nvehicles)\n",
    "plt.xlabel(\"# hourly reservations\")\n",
    "plt.ylabel(\"% vehicles\")\n",
    "\n",
    "fig.add_subplot(222)\n",
    "plt.title(\"#_Daily_rentals\")\n",
    "plt.hist(vehicle_rentals_df['#_Daily_rentals'],bins=12,weights=np.ones(nvehicles)*100.0/nvehicles)\n",
    "plt.xlabel(\"# daily reservations\")\n",
    "plt.ylabel(\"% vehicles\")\n",
    "\n",
    "fig.add_subplot(223)\n",
    "plt.title(\"#_Weekly_reservations\")\n",
    "plt.hist(vehicle_rentals_df['#_Weekly_rentals'],bins=12,weights=np.ones(nvehicles)*100.0/nvehicles)\n",
    "plt.xlabel(\"# weekly reservations\")\n",
    "plt.ylabel(\"% vehicles\")\n",
    "\n",
    "fig.add_subplot(224)\n",
    "plt.title(\"Total_#_reservations\")\n",
    "plt.hist(vehicle_rentals_df['#_reservations'],bins=12,weights=np.ones(nvehicles)*100.0/nvehicles)\n",
    "plt.xlabel(\"# reservations\")\n",
    "plt.ylabel(\"% vehicles\")\n",
    "\n",
    "plt.savefig('Distribution of the total number of reservations.png')\n",
    "\n",
    "#plt.xlabel(\"# hourly reservations\")\n",
    "#plt.ylabel(\"% vehicles\")"
   ]
  },
  {
   "cell_type": "code",
   "execution_count": 233,
   "metadata": {
    "collapsed": false
   },
   "outputs": [
    {
     "data": {
      "text/html": [
       "<div>\n",
       "<style>\n",
       "    .dataframe thead tr:only-child th {\n",
       "        text-align: right;\n",
       "    }\n",
       "\n",
       "    .dataframe thead th {\n",
       "        text-align: left;\n",
       "    }\n",
       "\n",
       "    .dataframe tbody tr th {\n",
       "        vertical-align: top;\n",
       "    }\n",
       "</style>\n",
       "<table border=\"1\" class=\"dataframe\">\n",
       "  <thead>\n",
       "    <tr style=\"text-align: right;\">\n",
       "      <th></th>\n",
       "      <th>vehicle_id</th>\n",
       "      <th>technology</th>\n",
       "      <th>actual_price</th>\n",
       "      <th>recommended_price</th>\n",
       "      <th>num_images</th>\n",
       "      <th>street_parked</th>\n",
       "      <th>description</th>\n",
       "      <th>#_Daily_rentals</th>\n",
       "      <th>#_Hourly_rentals</th>\n",
       "      <th>#_Weekly_rentals</th>\n",
       "      <th>#_reservations</th>\n",
       "    </tr>\n",
       "  </thead>\n",
       "  <tbody>\n",
       "    <tr>\n",
       "      <th>count</th>\n",
       "      <td>1000.000000</td>\n",
       "      <td>1000.000000</td>\n",
       "      <td>1000.000000</td>\n",
       "      <td>1000.000000</td>\n",
       "      <td>1000.000000</td>\n",
       "      <td>1000.000000</td>\n",
       "      <td>1000.000000</td>\n",
       "      <td>1000.000000</td>\n",
       "      <td>1000.000000</td>\n",
       "      <td>1000.000000</td>\n",
       "      <td>1000.000000</td>\n",
       "    </tr>\n",
       "    <tr>\n",
       "      <th>mean</th>\n",
       "      <td>500.500000</td>\n",
       "      <td>0.170000</td>\n",
       "      <td>87.940730</td>\n",
       "      <td>62.206000</td>\n",
       "      <td>3.008000</td>\n",
       "      <td>0.511000</td>\n",
       "      <td>90.792000</td>\n",
       "      <td>2.057000</td>\n",
       "      <td>2.339000</td>\n",
       "      <td>1.980000</td>\n",
       "      <td>6.376000</td>\n",
       "    </tr>\n",
       "    <tr>\n",
       "      <th>std</th>\n",
       "      <td>288.819436</td>\n",
       "      <td>0.375821</td>\n",
       "      <td>29.724589</td>\n",
       "      <td>16.082544</td>\n",
       "      <td>1.348983</td>\n",
       "      <td>0.500129</td>\n",
       "      <td>76.948644</td>\n",
       "      <td>1.935846</td>\n",
       "      <td>2.263449</td>\n",
       "      <td>1.853925</td>\n",
       "      <td>4.861302</td>\n",
       "    </tr>\n",
       "    <tr>\n",
       "      <th>min</th>\n",
       "      <td>1.000000</td>\n",
       "      <td>0.000000</td>\n",
       "      <td>32.760000</td>\n",
       "      <td>35.000000</td>\n",
       "      <td>1.000000</td>\n",
       "      <td>0.000000</td>\n",
       "      <td>1.000000</td>\n",
       "      <td>0.000000</td>\n",
       "      <td>0.000000</td>\n",
       "      <td>0.000000</td>\n",
       "      <td>0.000000</td>\n",
       "    </tr>\n",
       "    <tr>\n",
       "      <th>25%</th>\n",
       "      <td>250.750000</td>\n",
       "      <td>0.000000</td>\n",
       "      <td>64.942500</td>\n",
       "      <td>49.000000</td>\n",
       "      <td>2.000000</td>\n",
       "      <td>0.000000</td>\n",
       "      <td>25.000000</td>\n",
       "      <td>1.000000</td>\n",
       "      <td>1.000000</td>\n",
       "      <td>1.000000</td>\n",
       "      <td>3.000000</td>\n",
       "    </tr>\n",
       "    <tr>\n",
       "      <th>50%</th>\n",
       "      <td>500.500000</td>\n",
       "      <td>0.000000</td>\n",
       "      <td>83.930000</td>\n",
       "      <td>62.000000</td>\n",
       "      <td>3.000000</td>\n",
       "      <td>1.000000</td>\n",
       "      <td>57.500000</td>\n",
       "      <td>2.000000</td>\n",
       "      <td>2.000000</td>\n",
       "      <td>2.000000</td>\n",
       "      <td>5.000000</td>\n",
       "    </tr>\n",
       "    <tr>\n",
       "      <th>75%</th>\n",
       "      <td>750.250000</td>\n",
       "      <td>0.000000</td>\n",
       "      <td>107.010000</td>\n",
       "      <td>76.000000</td>\n",
       "      <td>4.000000</td>\n",
       "      <td>1.000000</td>\n",
       "      <td>158.000000</td>\n",
       "      <td>3.000000</td>\n",
       "      <td>4.000000</td>\n",
       "      <td>3.000000</td>\n",
       "      <td>9.000000</td>\n",
       "    </tr>\n",
       "    <tr>\n",
       "      <th>max</th>\n",
       "      <td>1000.000000</td>\n",
       "      <td>1.000000</td>\n",
       "      <td>174.440000</td>\n",
       "      <td>90.000000</td>\n",
       "      <td>5.000000</td>\n",
       "      <td>1.000000</td>\n",
       "      <td>250.000000</td>\n",
       "      <td>12.000000</td>\n",
       "      <td>14.000000</td>\n",
       "      <td>12.000000</td>\n",
       "      <td>25.000000</td>\n",
       "    </tr>\n",
       "  </tbody>\n",
       "</table>\n",
       "</div>"
      ],
      "text/plain": [
       "        vehicle_id   technology  actual_price  recommended_price   num_images  \\\n",
       "count  1000.000000  1000.000000   1000.000000        1000.000000  1000.000000   \n",
       "mean    500.500000     0.170000     87.940730          62.206000     3.008000   \n",
       "std     288.819436     0.375821     29.724589          16.082544     1.348983   \n",
       "min       1.000000     0.000000     32.760000          35.000000     1.000000   \n",
       "25%     250.750000     0.000000     64.942500          49.000000     2.000000   \n",
       "50%     500.500000     0.000000     83.930000          62.000000     3.000000   \n",
       "75%     750.250000     0.000000    107.010000          76.000000     4.000000   \n",
       "max    1000.000000     1.000000    174.440000          90.000000     5.000000   \n",
       "\n",
       "       street_parked  description  #_Daily_rentals  #_Hourly_rentals  \\\n",
       "count    1000.000000  1000.000000      1000.000000       1000.000000   \n",
       "mean        0.511000    90.792000         2.057000          2.339000   \n",
       "std         0.500129    76.948644         1.935846          2.263449   \n",
       "min         0.000000     1.000000         0.000000          0.000000   \n",
       "25%         0.000000    25.000000         1.000000          1.000000   \n",
       "50%         1.000000    57.500000         2.000000          2.000000   \n",
       "75%         1.000000   158.000000         3.000000          4.000000   \n",
       "max         1.000000   250.000000        12.000000         14.000000   \n",
       "\n",
       "       #_Weekly_rentals  #_reservations  \n",
       "count       1000.000000     1000.000000  \n",
       "mean           1.980000        6.376000  \n",
       "std            1.853925        4.861302  \n",
       "min            0.000000        0.000000  \n",
       "25%            1.000000        3.000000  \n",
       "50%            2.000000        5.000000  \n",
       "75%            3.000000        9.000000  \n",
       "max           12.000000       25.000000  "
      ]
     },
     "execution_count": 233,
     "metadata": {},
     "output_type": "execute_result"
    }
   ],
   "source": [
    "# The command describe gives different statistics of the features\n",
    "vehicle_rentals_df.describe()"
   ]
  },
  {
   "cell_type": "markdown",
   "metadata": {},
   "source": [
    "# ----------------------------------------------------------------------------------------"
   ]
  },
  {
   "cell_type": "markdown",
   "metadata": {},
   "source": [
    "## Part D: What are the key levers driving the total # of reservations?\n",
    "\n",
    "    I'm going to start with the conclusion and then describe the methodology that led me \n",
    "    to this conclusion:\n",
    "    \n",
    "    The percentage change between the actual & recommended price is the key lever\n",
    "    that Turo can use to drive the total number of reservations. Followed by the \n",
    "    actual price, the description and the number of images inputed by the car owner. \n",
    "    The presence of street parking and the \"instantly bookable\" technology come at last."
   ]
  },
  {
   "cell_type": "markdown",
   "metadata": {},
   "source": [
    "# --------------------------------------------------------------------------------------------"
   ]
  },
  {
   "cell_type": "markdown",
   "metadata": {},
   "source": [
    "    + Correlation matrix is useful to get some intuition right away for the relationships (or lack thereof) \n",
    "      between all of our variables.\n",
    "    + Sanity check that all features are not highly correlated -> Might hurt our RF model (take extreme case\n",
    "      where we have 100 duplicates and 2 other features, RF choose randomly k<N features to make the split\n",
    "      A tree that has 100 k same feature will perform very very bad)\n",
    "    \n",
    "    + The recommended price and actual price are highly correlated.\n",
    "    + The technology and the actual price are negatively correlated. This means that cars that have the tech\n",
    "      tend to be at lower prices. An intuition might be that a \"Tesla\" owner do not want his/her car to be \n",
    "      unlocked with a mobile phone.\n",
    "      "
   ]
  },
  {
   "cell_type": "code",
   "execution_count": 234,
   "metadata": {
    "collapsed": false
   },
   "outputs": [
    {
     "data": {
      "text/html": [
       "<div>\n",
       "<style>\n",
       "    .dataframe thead tr:only-child th {\n",
       "        text-align: right;\n",
       "    }\n",
       "\n",
       "    .dataframe thead th {\n",
       "        text-align: left;\n",
       "    }\n",
       "\n",
       "    .dataframe tbody tr th {\n",
       "        vertical-align: top;\n",
       "    }\n",
       "</style>\n",
       "<table border=\"1\" class=\"dataframe\">\n",
       "  <thead>\n",
       "    <tr style=\"text-align: right;\">\n",
       "      <th></th>\n",
       "      <th>technology</th>\n",
       "      <th>actual_price</th>\n",
       "      <th>recommended_price</th>\n",
       "      <th>num_images</th>\n",
       "      <th>street_parked</th>\n",
       "      <th>description</th>\n",
       "    </tr>\n",
       "  </thead>\n",
       "  <tbody>\n",
       "    <tr>\n",
       "      <th>technology</th>\n",
       "      <td>1.000000</td>\n",
       "      <td>-0.461930</td>\n",
       "      <td>-0.411390</td>\n",
       "      <td>-0.004660</td>\n",
       "      <td>-0.004633</td>\n",
       "      <td>0.033000</td>\n",
       "    </tr>\n",
       "    <tr>\n",
       "      <th>actual_price</th>\n",
       "      <td>-0.461930</td>\n",
       "      <td>1.000000</td>\n",
       "      <td>0.759358</td>\n",
       "      <td>-0.064753</td>\n",
       "      <td>0.004764</td>\n",
       "      <td>-0.015089</td>\n",
       "    </tr>\n",
       "    <tr>\n",
       "      <th>recommended_price</th>\n",
       "      <td>-0.411390</td>\n",
       "      <td>0.759358</td>\n",
       "      <td>1.000000</td>\n",
       "      <td>-0.046492</td>\n",
       "      <td>0.013034</td>\n",
       "      <td>0.012820</td>\n",
       "    </tr>\n",
       "    <tr>\n",
       "      <th>num_images</th>\n",
       "      <td>-0.004660</td>\n",
       "      <td>-0.064753</td>\n",
       "      <td>-0.046492</td>\n",
       "      <td>1.000000</td>\n",
       "      <td>-0.006065</td>\n",
       "      <td>0.010074</td>\n",
       "    </tr>\n",
       "    <tr>\n",
       "      <th>street_parked</th>\n",
       "      <td>-0.004633</td>\n",
       "      <td>0.004764</td>\n",
       "      <td>0.013034</td>\n",
       "      <td>-0.006065</td>\n",
       "      <td>1.000000</td>\n",
       "      <td>-0.008186</td>\n",
       "    </tr>\n",
       "    <tr>\n",
       "      <th>description</th>\n",
       "      <td>0.033000</td>\n",
       "      <td>-0.015089</td>\n",
       "      <td>0.012820</td>\n",
       "      <td>0.010074</td>\n",
       "      <td>-0.008186</td>\n",
       "      <td>1.000000</td>\n",
       "    </tr>\n",
       "  </tbody>\n",
       "</table>\n",
       "</div>"
      ],
      "text/plain": [
       "                   technology  actual_price  recommended_price  num_images  \\\n",
       "technology           1.000000     -0.461930          -0.411390   -0.004660   \n",
       "actual_price        -0.461930      1.000000           0.759358   -0.064753   \n",
       "recommended_price   -0.411390      0.759358           1.000000   -0.046492   \n",
       "num_images          -0.004660     -0.064753          -0.046492    1.000000   \n",
       "street_parked       -0.004633      0.004764           0.013034   -0.006065   \n",
       "description          0.033000     -0.015089           0.012820    0.010074   \n",
       "\n",
       "                   street_parked  description  \n",
       "technology             -0.004633     0.033000  \n",
       "actual_price            0.004764    -0.015089  \n",
       "recommended_price       0.013034     0.012820  \n",
       "num_images             -0.006065     0.010074  \n",
       "street_parked           1.000000    -0.008186  \n",
       "description            -0.008186     1.000000  "
      ]
     },
     "execution_count": 234,
     "metadata": {},
     "output_type": "execute_result"
    }
   ],
   "source": [
    "vehicle_rentals_df[[col for col in vehicle_rentals_df.columns if col not in [\"vehicle_id\",'#_hourly_rentals',\n",
    "                                                                             '#_Hourly_rentals',\n",
    "                                                                             '#_Daily_rentals',\n",
    "                                                                             '#_Weekly_rentals',\n",
    "                                                                             '#_reservations']]].corr()"
   ]
  },
  {
   "cell_type": "markdown",
   "metadata": {},
   "source": [
    "### Hypothesis: \n",
    "\n",
    "            A feature that tells if the car rental is overpriced (actual price > recommended price) \n",
    "            /underpricded (recommended price > actual price) might help our model perform better."
   ]
  },
  {
   "cell_type": "markdown",
   "metadata": {},
   "source": [
    "    + Feature Engineering: Because the actual & recommended price are highly correlated, the recommended price\n",
    "      is replaced by the percentage change between the actual & recommended price."
   ]
  },
  {
   "cell_type": "code",
   "execution_count": 235,
   "metadata": {
    "collapsed": false
   },
   "outputs": [],
   "source": [
    "vehicle_rentals_df['price_percentage_change [%]'] = \\\n",
    " 100*(vehicle_rentals_df['actual_price']-vehicle_rentals_df['recommended_price'])/vehicle_rentals_df['recommended_price']"
   ]
  },
  {
   "cell_type": "code",
   "execution_count": 236,
   "metadata": {
    "collapsed": true
   },
   "outputs": [],
   "source": [
    "# To understand what are the most important features that drive the # reservations\n",
    "# the predictive model has to do first a good job at predicting the # reservations\n",
    "# The first step is to split the predictors and the target\n",
    "\n",
    "X = vehicle_rentals_df[[col for col in vehicle_rentals_df.columns if col not in [\"vehicle_id\",'recommended_price',\n",
    "                                                                             '#_Hourly_rentals',\n",
    "                                                                             '#_Daily_rentals',\n",
    "                                                                             '#_Weekly_rentals',\n",
    "                                                                             '#_reservations']]]\n",
    "target =  vehicle_rentals_df['#_reservations']"
   ]
  },
  {
   "cell_type": "code",
   "execution_count": 237,
   "metadata": {
    "collapsed": true
   },
   "outputs": [],
   "source": [
    "from sklearn.model_selection import train_test_split\n",
    "\n",
    "# In order to be able to see how good a model will generalize \n",
    "# we need to split the dataset into train & test\n",
    "X_train,X_test,y_train,y_test = train_test_split(X,target,test_size=0.25)"
   ]
  },
  {
   "cell_type": "markdown",
   "metadata": {},
   "source": [
    "  Why did I choose RF?\n",
    "  \n",
    "   + Decision tree models are not sensitive to features of different magnitudes/scale. I didn't have to\n",
    "     normalize my data.\n",
    "     \n",
    "   + Feature importance is very interpretable.\n",
    "   \n",
    "   + RF is a non-linear model. It means that it's able to map non-linear relationship of the features to \n",
    "     predict the target variable.\n",
    "  \n",
    "  "
   ]
  },
  {
   "cell_type": "code",
   "execution_count": 238,
   "metadata": {
    "collapsed": false
   },
   "outputs": [
    {
     "data": {
      "text/plain": [
       "RandomForestRegressor(bootstrap=True, criterion='mse', max_depth=None,\n",
       "           max_features='auto', max_leaf_nodes=None,\n",
       "           min_impurity_split=1e-07, min_samples_leaf=1,\n",
       "           min_samples_split=2, min_weight_fraction_leaf=0.0,\n",
       "           n_estimators=10, n_jobs=1, oob_score=False, random_state=None,\n",
       "           verbose=0, warm_start=False)"
      ]
     },
     "execution_count": 238,
     "metadata": {},
     "output_type": "execute_result"
    }
   ],
   "source": [
    "from sklearn.ensemble import RandomForestRegressor\n",
    "\n",
    "\n",
    "# For regression trees, the algorithm optimizes the split using the MSE\n",
    "rfr = RandomForestRegressor()\n",
    "rfr.fit(X_train,y_train)"
   ]
  },
  {
   "cell_type": "code",
   "execution_count": 239,
   "metadata": {
    "collapsed": false
   },
   "outputs": [],
   "source": [
    "# The predictions are obtained using the test/train sets\n",
    "y_predictions = rfr.predict(X_test)\n",
    "y_predictions_train = rfr.predict(X_train)"
   ]
  },
  {
   "cell_type": "code",
   "execution_count": 240,
   "metadata": {
    "collapsed": false
   },
   "outputs": [],
   "source": [
    "# A baseline model that always predicts the mean was built\n",
    "# It's used to evaluate how our RF model is doing.\n",
    "baseline_predictions = np.array([vehicle_rentals_df['#_reservations'].mean()]*len(y_predictions))"
   ]
  },
  {
   "cell_type": "code",
   "execution_count": 241,
   "metadata": {
    "collapsed": false
   },
   "outputs": [
    {
     "data": {
      "text/plain": [
       "3.5428000000000002"
      ]
     },
     "execution_count": 241,
     "metadata": {},
     "output_type": "execute_result"
    }
   ],
   "source": [
    "from sklearn.metrics import mean_absolute_error\n",
    "\n",
    "# TEST MAE\n",
    "mean_absolute_error(y_test,y_predictions)"
   ]
  },
  {
   "cell_type": "code",
   "execution_count": 242,
   "metadata": {
    "collapsed": false
   },
   "outputs": [
    {
     "data": {
      "text/plain": [
       "1.3704000000000003"
      ]
     },
     "execution_count": 242,
     "metadata": {},
     "output_type": "execute_result"
    }
   ],
   "source": [
    "# TRAIN MAE\n",
    "mean_absolute_error(y_train,y_predictions_train)"
   ]
  },
  {
   "cell_type": "code",
   "execution_count": 243,
   "metadata": {
    "collapsed": false
   },
   "outputs": [
    {
     "data": {
      "text/plain": [
       "4.0681279999999997"
      ]
     },
     "execution_count": 243,
     "metadata": {},
     "output_type": "execute_result"
    }
   ],
   "source": [
    "# Baseline model MAE\n",
    "mean_absolute_error(y_test,baseline_predictions)"
   ]
  },
  {
   "cell_type": "markdown",
   "metadata": {},
   "source": [
    "  + To evaluate how good are the predictions of the model\n",
    "    the MAE was computed. MAE is an absolute value that \n",
    "    describes how off are in average our predictions\n",
    "\n",
    "  + In this case, the MAE = 3.69, this means that in average\n",
    "    the predicted number of reservations are off by 3 units compared to the\n",
    "    true number of reservation. \n",
    "    \n",
    "  + Now, the question is: is our model doing a good job or not?\n",
    "    To answer this question, one should compute the MAE of the baseline model\n",
    "    which is 4.1. Therefore, our model is doing better than the baseline model.\n",
    "    As interest of time, we'll consider that it's good enough.\n",
    "    "
   ]
  },
  {
   "cell_type": "markdown",
   "metadata": {},
   "source": [
    "  + Now we are pretty confident that our random forest regressor is doing a good job\n",
    "    we want to extract the feature importance.\n",
    "    \n",
    "  + The importance of a feature is computed as the (normalized) total reduction of the criterion (MSE)\n",
    "    brought by that feature."
   ]
  },
  {
   "cell_type": "code",
   "execution_count": 244,
   "metadata": {
    "collapsed": false
   },
   "outputs": [
    {
     "data": {
      "image/png": "[encoded data removed]",
      "text/plain": [
       "<matplotlib.figure.Figure at 0x119c58e10>"
      ]
     },
     "metadata": {},
     "output_type": "display_data"
    }
   ],
   "source": [
    "importances = rfr.feature_importances_\n",
    "\n",
    "# calculate the standard deviation of feature importances by looping over the trees in the random forest\n",
    "# \n",
    "std = np.std(np.array([estimator.feature_importances_ for estimator in rfr.estimators_]), axis=0)\n",
    "\n",
    "indices = np.argsort(importances)[::-1]\n",
    "feature_names = X.columns\n",
    "\n",
    "# Plot the feature importances of the forest\n",
    "\n",
    "plt.figure()\n",
    "plt.title(\"Feature importances\")\n",
    "plt.bar(range(X.shape[1]), importances[indices],\n",
    "       color=\"r\", yerr=std[indices], align=\"center\")\n",
    "plt.xticks(range(X.shape[1]), feature_names[indices], rotation=90)\n",
    "plt.xlim([-1, X.shape[1]])\n",
    "\n",
    "plt.savefig('Feature importance.png')"
   ]
  },
  {
   "cell_type": "markdown",
   "metadata": {},
   "source": [
    "## --------------------------------------------------------------------------------------------"
   ]
  },
  {
   "cell_type": "markdown",
   "metadata": {},
   "source": [
    "## Part D: How does the car's technology type seem to affect reservations?\n",
    "\n",
    "In this part, we're going to explore and formulate hypothesis.\n",
    "\n",
    "However, we will not be able to prove causation relationships but we will talk about ways to get to do that.\n",
    "\n",
    "    1) Hypotheses are formulated. \n",
    "    2) Hypotheses are tested using the available data. \n",
    "    3) Finally, some limitations are discussed."
   ]
  },
  {
   "cell_type": "markdown",
   "metadata": {},
   "source": [
    "# ----------------------------------------------------------------------------"
   ]
  },
  {
   "cell_type": "code",
   "execution_count": 245,
   "metadata": {
    "collapsed": false
   },
   "outputs": [
    {
     "data": {
      "text/plain": [
       "0    830\n",
       "1    170\n",
       "Name: technology, dtype: int64"
      ]
     },
     "execution_count": 245,
     "metadata": {},
     "output_type": "execute_result"
    }
   ],
   "source": [
    "# 17% of the cars do have the \"instantly bookable\"tech and 83% do not.\n",
    "vehicle_rentals_df['technology'].value_counts()"
   ]
  },
  {
   "cell_type": "code",
   "execution_count": 246,
   "metadata": {
    "collapsed": false
   },
   "outputs": [
    {
     "data": {
      "text/plain": [
       "<matplotlib.text.Text at 0x117f61650>"
      ]
     },
     "execution_count": 246,
     "metadata": {},
     "output_type": "execute_result"
    },
    {
     "data": {
      "image/png": "[encoded data removed]",
      "text/plain": [
       "<matplotlib.figure.Figure at 0x11939de10>"
      ]
     },
     "metadata": {},
     "output_type": "display_data"
    }
   ],
   "source": [
    "# Always good to make sure that the two enitites that we will compare\n",
    "# are identically distributed.\n",
    "\n",
    "nvehicles_technology = len(vehicle_rentals_df[vehicle_rentals_df['technology']==1])\n",
    "nvehicles_no_technology = len(vehicle_rentals_df[vehicle_rentals_df['technology']==0])\n",
    "\n",
    "fig = plt.figure(figsize = (20,12))\n",
    "fig.add_subplot(221)\n",
    "plt.title(\"#_reservations for cars with technology\")\n",
    "plt.hist(vehicle_rentals_df[vehicle_rentals_df['technology']==1]['#_reservations'],\\\n",
    "             bins=12,weights=np.ones(nvehicles_technology)*100.0/nvehicles)\n",
    "plt.xlabel(\"# hourly reservations\")\n",
    "plt.ylabel(\"% vehicles\")\n",
    "\n",
    "fig.add_subplot(222)\n",
    "plt.title(\"#_reservations for cars without technology\")\n",
    "plt.hist(vehicle_rentals_df[vehicle_rentals_df['technology']==0]['#_reservations'],\\\n",
    "         bins=12,weights=np.ones(nvehicles_no_technology)*100.0/nvehicles)\n",
    "plt.xlabel(\"# daily reservations\")\n",
    "plt.ylabel(\"% vehicles\")"
   ]
  },
  {
   "cell_type": "markdown",
   "metadata": {},
   "source": [
    "## ------------------------------"
   ]
  },
  {
   "cell_type": "markdown",
   "metadata": {},
   "source": [
    "### Hypothesis 1:\n",
    "\n",
    "    The cars are \"instantly bookable\" and unlockable with mobile phone show a higher\n",
    "    avergae number of reservations compared to the cars without this technology."
   ]
  },
  {
   "cell_type": "markdown",
   "metadata": {},
   "source": [
    "# -----------------------------"
   ]
  },
  {
   "cell_type": "code",
   "execution_count": 247,
   "metadata": {
    "collapsed": false
   },
   "outputs": [
    {
     "data": {
      "text/plain": [
       "7.841176470588235"
      ]
     },
     "execution_count": 247,
     "metadata": {},
     "output_type": "execute_result"
    }
   ],
   "source": [
    "# The instantly booklable cars have an avergae number of reserations of 7.8\n",
    "vehicle_rentals_df[vehicle_rentals_df[\"technology\"]==1][\"#_reservations\"].mean()"
   ]
  },
  {
   "cell_type": "code",
   "execution_count": 248,
   "metadata": {
    "collapsed": false
   },
   "outputs": [
    {
     "data": {
      "text/plain": [
       "6.075903614457832"
      ]
     },
     "execution_count": 248,
     "metadata": {},
     "output_type": "execute_result"
    }
   ],
   "source": [
    "# The cars that are NOT instantly bookable have an avergae number of reserations of 6.1\n",
    "vehicle_rentals_df[vehicle_rentals_df[\"technology\"]==0][\"#_reservations\"].mean()"
   ]
  },
  {
   "cell_type": "markdown",
   "metadata": {},
   "source": [
    "    + The mean is very sensitive to ourliers. Also, because our sample size differs a lot (170 VS 830 vehicles)\n",
    "      it would be helpful to compute the confidence interval in order to assess the \n",
    "      uncertainty of our mean measuremnents.\n",
    "    \n",
    "    + Also, Part C showed that the technology feature is negatively correlated with price. This means that cars \n",
    "      with the instantly bookable technology are actually cheaper. Therefore, it's trickier to prove causality\n",
    "      in this case. Maybe, the reason why the average number of reservations is higher is due to the lower price.\n",
    "      -> We would need to make a cohort analysis to compare cars with/without the techology \n",
    "        but that are booked at the same price.\n",
    "    \n",
    "    "
   ]
  },
  {
   "cell_type": "code",
   "execution_count": 249,
   "metadata": {
    "collapsed": false
   },
   "outputs": [
    {
     "name": "stdout",
     "output_type": "stream",
     "text": [
      "t-critical value:\n",
      "1.65391994188\n",
      "Confidence interval for the vehicles with the technology:\n",
      "(7.0918835652422905, 8.5904693759341804)\n"
     ]
    }
   ],
   "source": [
    "import scipy.stats as stats\n",
    "import math\n",
    "\n",
    "sample_size = vehicle_rentals_df[vehicle_rentals_df[\"technology\"]==1][\"#_reservations\"].size\n",
    "sample = vehicle_rentals_df[vehicle_rentals_df[\"technology\"]==1][\"#_reservations\"]\n",
    "sample_mean = sample.mean()\n",
    "\n",
    "t_critical = stats.t.ppf(q = 0.95, df=sample_size-1)  # Get the t-critical value*\n",
    "\n",
    "print(\"t-critical value:\")                  # Check the t-critical value\n",
    "print(t_critical)                        \n",
    "\n",
    "sample_stdev = sample.std()    # Get the sample standard deviation\n",
    "\n",
    "sigma = sample_stdev/math.sqrt(sample_size)  # Standard deviation estimate\n",
    "margin_of_error = t_critical * sigma\n",
    "\n",
    "confidence_interval = (sample_mean - margin_of_error,\n",
    "                       sample_mean + margin_of_error)  \n",
    "\n",
    "print(\"Confidence interval for the vehicles with the technology:\")\n",
    "print(confidence_interval)"
   ]
  },
  {
   "cell_type": "code",
   "execution_count": 250,
   "metadata": {
    "collapsed": false
   },
   "outputs": [
    {
     "name": "stdout",
     "output_type": "stream",
     "text": [
      "t-critical value:\n",
      "1.6466937762\n",
      "Confidence interval for the vehicles without the technology:\n",
      "(5.8150057111730717, 6.3368015177425914)\n"
     ]
    }
   ],
   "source": [
    "sample_size = vehicle_rentals_df[vehicle_rentals_df[\"technology\"]==0][\"#_reservations\"].size\n",
    "sample = vehicle_rentals_df[vehicle_rentals_df[\"technology\"]==0][\"#_reservations\"]\n",
    "sample_mean = sample.mean()\n",
    "\n",
    "t_critical = stats.t.ppf(q = 0.95, df=sample_size-1)  # Get the t-critical value*\n",
    "\n",
    "print(\"t-critical value:\")                  # Check the t-critical value\n",
    "print(t_critical)                        \n",
    "\n",
    "sample_stdev = sample.std()    # Get the sample standard deviation\n",
    "\n",
    "sigma = sample_stdev/math.sqrt(sample_size)  # Standard deviation estimate\n",
    "margin_of_error = t_critical * sigma\n",
    "\n",
    "confidence_interval = (sample_mean - margin_of_error,\n",
    "                       sample_mean + margin_of_error)  \n",
    "\n",
    "print(\"Confidence interval for the vehicles without the technology:\")\n",
    "print(confidence_interval)"
   ]
  },
  {
   "cell_type": "code",
   "execution_count": 251,
   "metadata": {
    "collapsed": false
   },
   "outputs": [
    {
     "data": {
      "text/plain": [
       "(-1, 2)"
      ]
     },
     "execution_count": 251,
     "metadata": {},
     "output_type": "execute_result"
    },
    {
     "data": {
      "image/png": "[encoded data removed]",
      "text/plain": [
       "<matplotlib.figure.Figure at 0x1180e5910>"
      ]
     },
     "metadata": {},
     "output_type": "display_data"
    }
   ],
   "source": [
    "# One way to visualize the confidence intervals of both sample means\n",
    "# The confidence interval lower bound of sample with technolofy is sitll higher than the \n",
    "# CI upper bound of the sample without the tech.\n",
    "\n",
    "\n",
    "data_m=np.array([vehicle_rentals_df[vehicle_rentals_df[\"technology\"]==0][\"#_reservations\"].mean(),\\\n",
    "                 vehicle_rentals_df[vehicle_rentals_df[\"technology\"]==1][\"#_reservations\"].mean()])   #(Means of your data)\n",
    "data_df=np.array([829,169])   #(Degree-of-freedoms of your data)\n",
    "data_sd=np.array([vehicle_rentals_df[vehicle_rentals_df[\"technology\"]==0][\"#_reservations\"].std(),\\\n",
    "                  vehicle_rentals_df[vehicle_rentals_df[\"technology\"]==1][\"#_reservations\"].std()])   #(Standard Deviations of your data)\n",
    "\n",
    "plt.errorbar([0,1], data_m, yerr=stats.t.ppf(0.95, data_df)*data_sd/np.sqrt(data_df))\n",
    "plt.xlim((-1,2))"
   ]
  },
  {
   "cell_type": "markdown",
   "metadata": {},
   "source": [
    "# ----------------------------"
   ]
  },
  {
   "cell_type": "markdown",
   "metadata": {},
   "source": [
    "## Hypothesis 2\n",
    "\n",
    "    The variable technology also influences the reservation TYPE."
   ]
  },
  {
   "cell_type": "markdown",
   "metadata": {},
   "source": [
    "# --------------------------------"
   ]
  },
  {
   "cell_type": "markdown",
   "metadata": {},
   "source": [
    " 1) It seems that cars with the \"instantly bookable\" technology are more hourly rented compared\n",
    "    to cars without the tech."
   ]
  },
  {
   "cell_type": "code",
   "execution_count": 252,
   "metadata": {
    "collapsed": false
   },
   "outputs": [
    {
     "data": {
      "text/plain": [
       "3.823529411764706"
      ]
     },
     "execution_count": 252,
     "metadata": {},
     "output_type": "execute_result"
    }
   ],
   "source": [
    "vehicle_rentals_df[vehicle_rentals_df['technology']==1]['#_Hourly_rentals'].mean()"
   ]
  },
  {
   "cell_type": "code",
   "execution_count": 253,
   "metadata": {
    "collapsed": false
   },
   "outputs": [
    {
     "data": {
      "text/plain": [
       "2.0349397590361447"
      ]
     },
     "execution_count": 253,
     "metadata": {},
     "output_type": "execute_result"
    }
   ],
   "source": [
    "vehicle_rentals_df[vehicle_rentals_df['technology']==0]['#_Hourly_rentals'].mean()"
   ]
  },
  {
   "cell_type": "markdown",
   "metadata": {},
   "source": [
    "2) It seems that cars with and without tech do NOT show a diff in averge dail/weekly number of rentals"
   ]
  },
  {
   "cell_type": "code",
   "execution_count": 254,
   "metadata": {
    "collapsed": false
   },
   "outputs": [
    {
     "data": {
      "text/plain": [
       "2.070588235294118"
      ]
     },
     "execution_count": 254,
     "metadata": {},
     "output_type": "execute_result"
    }
   ],
   "source": [
    "vehicle_rentals_df[vehicle_rentals_df['technology']==1]['#_Daily_rentals'].mean()"
   ]
  },
  {
   "cell_type": "code",
   "execution_count": 255,
   "metadata": {
    "collapsed": false
   },
   "outputs": [
    {
     "data": {
      "text/plain": [
       "2.0542168674698793"
      ]
     },
     "execution_count": 255,
     "metadata": {},
     "output_type": "execute_result"
    }
   ],
   "source": [
    "vehicle_rentals_df[vehicle_rentals_df['technology']==0]['#_Daily_rentals'].mean()"
   ]
  },
  {
   "cell_type": "code",
   "execution_count": 256,
   "metadata": {
    "collapsed": false
   },
   "outputs": [
    {
     "data": {
      "text/plain": [
       "1.9470588235294117"
      ]
     },
     "execution_count": 256,
     "metadata": {},
     "output_type": "execute_result"
    }
   ],
   "source": [
    "vehicle_rentals_df[vehicle_rentals_df['technology']==1]['#_Weekly_rentals'].mean()"
   ]
  },
  {
   "cell_type": "code",
   "execution_count": 257,
   "metadata": {
    "collapsed": false
   },
   "outputs": [
    {
     "data": {
      "text/plain": [
       "1.9867469879518072"
      ]
     },
     "execution_count": 257,
     "metadata": {},
     "output_type": "execute_result"
    }
   ],
   "source": [
    "vehicle_rentals_df[vehicle_rentals_df['technology']==0]['#_Weekly_rentals'].mean()"
   ]
  },
  {
   "cell_type": "markdown",
   "metadata": {},
   "source": [
    "\n",
    "    Limitation:\n",
    "    \n",
    "    mean -> how uncertain are our mean measurement?\n",
    "    price relationship -> does price affect the average number of reservations?\n",
    "    supply demand more cars without tech / Mix shift how do you observe it -> A/B test \n",
    "    on the consumer side \n",
    "    "
   ]
  },
  {
   "cell_type": "code",
   "execution_count": null,
   "metadata": {
    "collapsed": true
   },
   "outputs": [],
   "source": []
  }
 ],
 "metadata": {
  "kernelspec": {
   "display_name": "Python 2",
   "language": "python",
   "name": "python2"
  },
  "language_info": {
   "codemirror_mode": {
    "name": "ipython",
    "version": 2
   },
   "file_extension": ".py",
   "mimetype": "text/x-python",
   "name": "python",
   "nbconvert_exporter": "python",
   "pygments_lexer": "ipython2",
   "version": "2.7.13"
  }
 },
 "nbformat": 4,
 "nbformat_minor": 2
}
